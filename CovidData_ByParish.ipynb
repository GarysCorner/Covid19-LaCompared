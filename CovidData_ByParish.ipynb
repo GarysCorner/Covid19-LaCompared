{
 "cells": [
  {
   "cell_type": "code",
   "execution_count": 1,
   "metadata": {},
   "outputs": [],
   "source": [
    "import numpy as np\n",
    "import pandas as pd\n",
    "import matplotlib.pyplot as plt\n",
    "import folium"
   ]
  },
  {
   "cell_type": "code",
   "execution_count": 2,
   "metadata": {},
   "outputs": [
    {
     "data": {
      "text/html": [
       "<div>\n",
       "<style scoped>\n",
       "    .dataframe tbody tr th:only-of-type {\n",
       "        vertical-align: middle;\n",
       "    }\n",
       "\n",
       "    .dataframe tbody tr th {\n",
       "        vertical-align: top;\n",
       "    }\n",
       "\n",
       "    .dataframe thead th {\n",
       "        text-align: right;\n",
       "    }\n",
       "</style>\n",
       "<table border=\"1\" class=\"dataframe\">\n",
       "  <thead>\n",
       "    <tr style=\"text-align: right;\">\n",
       "      <th></th>\n",
       "      <th>Lab Collection Date</th>\n",
       "      <th>Parish</th>\n",
       "      <th>Daily Test Count</th>\n",
       "      <th>Daily Negative Test Count</th>\n",
       "      <th>Daily Positive Test Count</th>\n",
       "      <th>Daily Case Count</th>\n",
       "      <th>datetime</th>\n",
       "    </tr>\n",
       "  </thead>\n",
       "  <tbody>\n",
       "    <tr>\n",
       "      <th>0</th>\n",
       "      <td>2020-03-01</td>\n",
       "      <td>Acadia</td>\n",
       "      <td>0</td>\n",
       "      <td>0</td>\n",
       "      <td>0</td>\n",
       "      <td>0</td>\n",
       "      <td>2020-03-01 12:00:00</td>\n",
       "    </tr>\n",
       "    <tr>\n",
       "      <th>1</th>\n",
       "      <td>2020-03-02</td>\n",
       "      <td>Acadia</td>\n",
       "      <td>0</td>\n",
       "      <td>0</td>\n",
       "      <td>0</td>\n",
       "      <td>0</td>\n",
       "      <td>2020-03-02 12:00:00</td>\n",
       "    </tr>\n",
       "    <tr>\n",
       "      <th>2</th>\n",
       "      <td>2020-03-03</td>\n",
       "      <td>Acadia</td>\n",
       "      <td>0</td>\n",
       "      <td>0</td>\n",
       "      <td>0</td>\n",
       "      <td>0</td>\n",
       "      <td>2020-03-03 12:00:00</td>\n",
       "    </tr>\n",
       "    <tr>\n",
       "      <th>3</th>\n",
       "      <td>2020-03-04</td>\n",
       "      <td>Acadia</td>\n",
       "      <td>0</td>\n",
       "      <td>0</td>\n",
       "      <td>0</td>\n",
       "      <td>0</td>\n",
       "      <td>2020-03-04 12:00:00</td>\n",
       "    </tr>\n",
       "    <tr>\n",
       "      <th>4</th>\n",
       "      <td>2020-03-05</td>\n",
       "      <td>Acadia</td>\n",
       "      <td>0</td>\n",
       "      <td>0</td>\n",
       "      <td>0</td>\n",
       "      <td>0</td>\n",
       "      <td>2020-03-05 12:00:00</td>\n",
       "    </tr>\n",
       "  </tbody>\n",
       "</table>\n",
       "</div>"
      ],
      "text/plain": [
       "  Lab Collection Date  Parish  Daily Test Count  Daily Negative Test Count  \\\n",
       "0          2020-03-01  Acadia                 0                          0   \n",
       "1          2020-03-02  Acadia                 0                          0   \n",
       "2          2020-03-03  Acadia                 0                          0   \n",
       "3          2020-03-04  Acadia                 0                          0   \n",
       "4          2020-03-05  Acadia                 0                          0   \n",
       "\n",
       "   Daily Positive Test Count  Daily Case Count            datetime  \n",
       "0                          0                 0 2020-03-01 12:00:00  \n",
       "1                          0                 0 2020-03-02 12:00:00  \n",
       "2                          0                 0 2020-03-03 12:00:00  \n",
       "3                          0                 0 2020-03-04 12:00:00  \n",
       "4                          0                 0 2020-03-05 12:00:00  "
      ]
     },
     "execution_count": 2,
     "metadata": {},
     "output_type": "execute_result"
    }
   ],
   "source": [
    "df = pd.read_excel(\"./LaDeptHealth/LA_COVID_TESTBYDAY_PARISH_PUBLICUSE.xlsx\")\n",
    "df.head()"
   ]
  },
  {
   "cell_type": "code",
   "execution_count": 3,
   "metadata": {},
   "outputs": [
    {
     "name": "stdout",
     "output_type": "stream",
     "text": [
      "['Acadia', 'Allen', 'Ascension', 'Assumption', 'Avoyelles', 'Beauregard', 'Bienville', 'Bossier', 'Caddo', 'Calcasieu', 'Caldwell', 'Cameron', 'Catahoula', 'Claiborne', 'Concordia', 'DeSoto', 'East Baton Rouge', 'East Carroll', 'East Feliciana', 'Evangeline', 'Franklin', 'Grant', 'Iberia', 'Iberville', 'Jackson', 'Jefferson', 'Jefferson Davis', 'LaSalle', 'Lafayette', 'Lafourche', 'Lincoln', 'Livingston', 'Madison', 'Morehouse', 'Natchitoches', 'Orleans', 'Ouachita', 'Plaquemines', 'Pointe Coupee', 'Rapides', 'Red River', 'Richland', 'Sabine', 'St. Bernard', 'St. Charles', 'St. Helena', 'St. James', 'St. John the Baptist', 'St. Landry', 'St. Martin', 'St. Mary', 'St. Tammany', 'Tangipahoa', 'Tensas', 'Terrebonne', 'Union', 'Vermilion', 'Vernon', 'Washington', 'Webster', 'West Baton Rouge', 'West Carroll', 'West Feliciana', 'Winn']\n"
     ]
    }
   ],
   "source": [
    "parishes = sorted(df['Parish'].unique())\n",
    "print(parishes)"
   ]
  },
  {
   "cell_type": "code",
   "execution_count": 4,
   "metadata": {},
   "outputs": [
    {
     "name": "stdout",
     "output_type": "stream",
     "text": [
      "2020-03-01 00:00:00\n"
     ]
    }
   ],
   "source": [
    "mindate = df['Lab Collection Date'].min()\n",
    "print(mindate)"
   ]
  },
  {
   "cell_type": "code",
   "execution_count": 5,
   "metadata": {},
   "outputs": [
    {
     "name": "stdout",
     "output_type": "stream",
     "text": [
      "2020-09-23 00:00:00\n"
     ]
    }
   ],
   "source": [
    "maxdate = df['Lab Collection Date'].max()\n",
    "print(maxdate)"
   ]
  },
  {
   "cell_type": "code",
   "execution_count": 65,
   "metadata": {},
   "outputs": [],
   "source": [
    "columns = []\n",
    "dates_raw = np.sort(df['Lab Collection Date'].unique())\n",
    "\n",
    "dates = sorted(np.datetime_as_string( dates_raw, unit='D'))\n",
    "for date in dates_raw:\n",
    "    columns.append(date)\n",
    "\n",
    "rows_cases = []\n",
    "rows_tests = []\n",
    "\n",
    "for parish in parishes:\n",
    "    parish_mask = df['Parish'] == parish\n",
    "    \n",
    "    casecount = []\n",
    "    testcount = []\n",
    "        \n",
    "    for date in dates_raw:\n",
    "        \n",
    "        data = df[np.logical_and( parish_mask,  df['Lab Collection Date']==date)]\n",
    "        casecount.append(data['Daily Case Count'].iloc[0])\n",
    "        testcount.append(data['Daily Test Count'].iloc[0])\n",
    "        \n",
    "    outdata_cases = []\n",
    "    outdata_tests = []\n",
    "    for idx in range(dates_raw.shape[0]):\n",
    "\n",
    "        outdata_cases.append(casecount[idx])\n",
    "        outdata_tests.append(testcount[idx])\n",
    "\n",
    "    \n",
    "    assert len(outdata_cases) == len(columns), \"Outdata_cases len=%d, but columns len=%d\" % (len(outdata),len(columns))\n",
    "    assert len(outdata_tests) == len(columns), \"Outdata_tests len=%d, but columns len=%d\" % (len(outdata),len(columns))\n",
    "    rows_cases.append(outdata_cases)\n",
    "    rows_tests.append(outdata_tests)\n",
    "    \n",
    "    outdata_cases = []\n",
    "    outdata_tests = []\n",
    "\n",
    "    \n",
    "for date in dates_raw:\n",
    "    outdata_cases.append(df_parish_cases[date].sum())\n",
    "    outdata_tests.append(df_parish_tests[date].sum())\n",
    "\n",
    "rows_cases.append(outdata_cases)\n",
    "rows_tests.append(outdata_tests)\n",
    "\n",
    "    \n",
    "df_parish_cases = pd.DataFrame(rows_cases, columns=columns, index=parishes + ['Louisiana'])\n",
    "df_parish_tests = pd.DataFrame(rows_tests, columns=columns, index=parishes + ['Louisiana'])\n",
    "\n",
    "    "
   ]
  },
  {
   "cell_type": "code",
   "execution_count": 71,
   "metadata": {},
   "outputs": [
    {
     "data": {
      "text/plain": [
       "Index(['Acadia', 'Allen', 'Ascension', 'Assumption', 'Avoyelles', 'Beauregard',\n",
       "       'Bienville', 'Bossier', 'Caddo', 'Calcasieu', 'Caldwell', 'Cameron',\n",
       "       'Catahoula', 'Claiborne', 'Concordia', 'DeSoto', 'East Baton Rouge',\n",
       "       'East Carroll', 'East Feliciana', 'Evangeline', 'Franklin', 'Grant',\n",
       "       'Iberia', 'Iberville', 'Jackson', 'Jefferson', 'Jefferson Davis',\n",
       "       'LaSalle', 'Lafayette', 'Lafourche', 'Lincoln', 'Livingston', 'Madison',\n",
       "       'Morehouse', 'Natchitoches', 'Orleans', 'Ouachita', 'Plaquemines',\n",
       "       'Pointe Coupee', 'Rapides', 'Red River', 'Richland', 'Sabine',\n",
       "       'St. Bernard', 'St. Charles', 'St. Helena', 'St. James',\n",
       "       'St. John the Baptist', 'St. Landry', 'St. Martin', 'St. Mary',\n",
       "       'St. Tammany', 'Tangipahoa', 'Tensas', 'Terrebonne', 'Union',\n",
       "       'Vermilion', 'Vernon', 'Washington', 'Webster', 'West Baton Rouge',\n",
       "       'West Carroll', 'West Feliciana', 'Winn', 'Louisiana'],\n",
       "      dtype='object')"
      ]
     },
     "execution_count": 71,
     "metadata": {},
     "output_type": "execute_result"
    }
   ],
   "source": [
    "df_parish_cases.index.unique()"
   ]
  },
  {
   "cell_type": "code",
   "execution_count": 81,
   "metadata": {},
   "outputs": [
    {
     "data": {
      "text/html": [
       "<div>\n",
       "<style scoped>\n",
       "    .dataframe tbody tr th:only-of-type {\n",
       "        vertical-align: middle;\n",
       "    }\n",
       "\n",
       "    .dataframe tbody tr th {\n",
       "        vertical-align: top;\n",
       "    }\n",
       "\n",
       "    .dataframe thead th {\n",
       "        text-align: right;\n",
       "    }\n",
       "</style>\n",
       "<table border=\"1\" class=\"dataframe\">\n",
       "  <thead>\n",
       "    <tr style=\"text-align: right;\">\n",
       "      <th></th>\n",
       "      <th>2020-03-01</th>\n",
       "      <th>2020-03-02</th>\n",
       "      <th>2020-03-03</th>\n",
       "      <th>2020-03-04</th>\n",
       "      <th>2020-03-05</th>\n",
       "      <th>2020-03-06</th>\n",
       "      <th>2020-03-07</th>\n",
       "      <th>2020-03-08</th>\n",
       "      <th>2020-03-09</th>\n",
       "      <th>2020-03-10</th>\n",
       "      <th>...</th>\n",
       "      <th>2020-09-14</th>\n",
       "      <th>2020-09-15</th>\n",
       "      <th>2020-09-16</th>\n",
       "      <th>2020-09-17</th>\n",
       "      <th>2020-09-18</th>\n",
       "      <th>2020-09-19</th>\n",
       "      <th>2020-09-20</th>\n",
       "      <th>2020-09-21</th>\n",
       "      <th>2020-09-22</th>\n",
       "      <th>2020-09-23</th>\n",
       "    </tr>\n",
       "  </thead>\n",
       "  <tbody>\n",
       "    <tr>\n",
       "      <th>West Baton Rouge</th>\n",
       "      <td>0</td>\n",
       "      <td>0</td>\n",
       "      <td>0</td>\n",
       "      <td>0</td>\n",
       "      <td>0</td>\n",
       "      <td>0</td>\n",
       "      <td>0</td>\n",
       "      <td>0</td>\n",
       "      <td>0</td>\n",
       "      <td>0</td>\n",
       "      <td>...</td>\n",
       "      <td>82</td>\n",
       "      <td>117</td>\n",
       "      <td>47</td>\n",
       "      <td>76</td>\n",
       "      <td>148</td>\n",
       "      <td>20</td>\n",
       "      <td>38</td>\n",
       "      <td>101</td>\n",
       "      <td>95</td>\n",
       "      <td>72</td>\n",
       "    </tr>\n",
       "    <tr>\n",
       "      <th>West Carroll</th>\n",
       "      <td>0</td>\n",
       "      <td>0</td>\n",
       "      <td>0</td>\n",
       "      <td>0</td>\n",
       "      <td>0</td>\n",
       "      <td>0</td>\n",
       "      <td>0</td>\n",
       "      <td>0</td>\n",
       "      <td>0</td>\n",
       "      <td>0</td>\n",
       "      <td>...</td>\n",
       "      <td>21</td>\n",
       "      <td>24</td>\n",
       "      <td>95</td>\n",
       "      <td>5</td>\n",
       "      <td>11</td>\n",
       "      <td>3</td>\n",
       "      <td>5</td>\n",
       "      <td>21</td>\n",
       "      <td>15</td>\n",
       "      <td>6</td>\n",
       "    </tr>\n",
       "    <tr>\n",
       "      <th>West Feliciana</th>\n",
       "      <td>0</td>\n",
       "      <td>0</td>\n",
       "      <td>0</td>\n",
       "      <td>0</td>\n",
       "      <td>0</td>\n",
       "      <td>0</td>\n",
       "      <td>0</td>\n",
       "      <td>0</td>\n",
       "      <td>0</td>\n",
       "      <td>0</td>\n",
       "      <td>...</td>\n",
       "      <td>101</td>\n",
       "      <td>29</td>\n",
       "      <td>21</td>\n",
       "      <td>283</td>\n",
       "      <td>11</td>\n",
       "      <td>1</td>\n",
       "      <td>7</td>\n",
       "      <td>102</td>\n",
       "      <td>40</td>\n",
       "      <td>39</td>\n",
       "    </tr>\n",
       "    <tr>\n",
       "      <th>Winn</th>\n",
       "      <td>0</td>\n",
       "      <td>0</td>\n",
       "      <td>0</td>\n",
       "      <td>0</td>\n",
       "      <td>0</td>\n",
       "      <td>0</td>\n",
       "      <td>0</td>\n",
       "      <td>0</td>\n",
       "      <td>0</td>\n",
       "      <td>0</td>\n",
       "      <td>...</td>\n",
       "      <td>30</td>\n",
       "      <td>72</td>\n",
       "      <td>115</td>\n",
       "      <td>49</td>\n",
       "      <td>72</td>\n",
       "      <td>6</td>\n",
       "      <td>8</td>\n",
       "      <td>45</td>\n",
       "      <td>193</td>\n",
       "      <td>86</td>\n",
       "    </tr>\n",
       "    <tr>\n",
       "      <th>Louisiana</th>\n",
       "      <td>1</td>\n",
       "      <td>0</td>\n",
       "      <td>1</td>\n",
       "      <td>1</td>\n",
       "      <td>2</td>\n",
       "      <td>4</td>\n",
       "      <td>6</td>\n",
       "      <td>3</td>\n",
       "      <td>30</td>\n",
       "      <td>50</td>\n",
       "      <td>...</td>\n",
       "      <td>18506</td>\n",
       "      <td>15081</td>\n",
       "      <td>16493</td>\n",
       "      <td>17840</td>\n",
       "      <td>14803</td>\n",
       "      <td>4576</td>\n",
       "      <td>5068</td>\n",
       "      <td>21066</td>\n",
       "      <td>18263</td>\n",
       "      <td>12830</td>\n",
       "    </tr>\n",
       "  </tbody>\n",
       "</table>\n",
       "<p>5 rows × 207 columns</p>\n",
       "</div>"
      ],
      "text/plain": [
       "                  2020-03-01  2020-03-02  2020-03-03  2020-03-04  2020-03-05  \\\n",
       "West Baton Rouge           0           0           0           0           0   \n",
       "West Carroll               0           0           0           0           0   \n",
       "West Feliciana             0           0           0           0           0   \n",
       "Winn                       0           0           0           0           0   \n",
       "Louisiana                  1           0           1           1           2   \n",
       "\n",
       "                  2020-03-06  2020-03-07  2020-03-08  2020-03-09  2020-03-10  \\\n",
       "West Baton Rouge           0           0           0           0           0   \n",
       "West Carroll               0           0           0           0           0   \n",
       "West Feliciana             0           0           0           0           0   \n",
       "Winn                       0           0           0           0           0   \n",
       "Louisiana                  4           6           3          30          50   \n",
       "\n",
       "                  ...  2020-09-14  2020-09-15  2020-09-16  2020-09-17  \\\n",
       "West Baton Rouge  ...          82         117          47          76   \n",
       "West Carroll      ...          21          24          95           5   \n",
       "West Feliciana    ...         101          29          21         283   \n",
       "Winn              ...          30          72         115          49   \n",
       "Louisiana         ...       18506       15081       16493       17840   \n",
       "\n",
       "                  2020-09-18  2020-09-19  2020-09-20  2020-09-21  2020-09-22  \\\n",
       "West Baton Rouge         148          20          38         101          95   \n",
       "West Carroll              11           3           5          21          15   \n",
       "West Feliciana            11           1           7         102          40   \n",
       "Winn                      72           6           8          45         193   \n",
       "Louisiana              14803        4576        5068       21066       18263   \n",
       "\n",
       "                  2020-09-23  \n",
       "West Baton Rouge          72  \n",
       "West Carroll               6  \n",
       "West Feliciana            39  \n",
       "Winn                      86  \n",
       "Louisiana              12830  \n",
       "\n",
       "[5 rows x 207 columns]"
      ]
     },
     "execution_count": 81,
     "metadata": {},
     "output_type": "execute_result"
    }
   ],
   "source": [
    "df_parish_tests.tail()"
   ]
  },
  {
   "cell_type": "code",
   "execution_count": 70,
   "metadata": {},
   "outputs": [
    {
     "name": "stdout",
     "output_type": "stream",
     "text": [
      "390144 4648794\n"
     ]
    }
   ],
   "source": [
    "df_population = pd.read_csv(\"./uscensus/co-est2019-alldata.csv\" ,encoding='latin1')\n",
    "df_population = df_population[df_population['STNAME'] == 'Louisiana']\n",
    "df_population.index = df_population['CTYNAME'].str.replace(\" Parish\",\"\")\n",
    "orleans_population = df_population.loc['Orleans']['POPESTIMATE2019']\n",
    "la_population = df_population.loc['Louisiana']['POPESTIMATE2019']"
   ]
  },
  {
   "cell_type": "code",
   "execution_count": null,
   "metadata": {},
   "outputs": [],
   "source": []
  },
  {
   "cell_type": "code",
   "execution_count": 46,
   "metadata": {},
   "outputs": [
    {
     "data": {
      "text/plain": [
       "4648794"
      ]
     },
     "execution_count": 46,
     "metadata": {},
     "output_type": "execute_result"
    }
   ],
   "source": []
  },
  {
   "cell_type": "code",
   "execution_count": null,
   "metadata": {},
   "outputs": [],
   "source": []
  }
 ],
 "metadata": {
  "kernelspec": {
   "display_name": "Python 3",
   "language": "python",
   "name": "python3"
  },
  "language_info": {
   "codemirror_mode": {
    "name": "ipython",
    "version": 3
   },
   "file_extension": ".py",
   "mimetype": "text/x-python",
   "name": "python",
   "nbconvert_exporter": "python",
   "pygments_lexer": "ipython3",
   "version": "3.7.3"
  }
 },
 "nbformat": 4,
 "nbformat_minor": 4
}
